{
 "cells": [
  {
   "cell_type": "markdown",
   "metadata": {},
   "source": [
    "## Encoding the data & scaling using pipeline\n"
   ]
  },
  {
   "cell_type": "code",
   "execution_count": null,
   "metadata": {},
   "outputs": [],
   "source": [
    "nominal_pipeline = Pipeline([\n",
    "    ('ohe', OneHotEncoder(drop='first', sparse=False, dtype=np.int32))\n",
    "])\n",
    "ordinal_pipeline = Pipeline([\n",
    "    ('ord', OrdinalEncoder(categories=[['Graduate', 'Not Graduate']]))  \n",
    "])\n",
    "numerical_pipeline = Pipeline([\n",
    "    ('scaler', StandardScaler()),\n",
    "])"
   ]
  },
  {
   "cell_type": "code",
   "execution_count": null,
   "metadata": {},
   "outputs": [],
   "source": [
    "trnf = ColumnTransformer([\n",
    "    ('nominal',nominal_pipeline,['Gender', 'Married', 'Dependents', 'Self_Employed',\n",
    "       'Property_Area', 'Loan_Status']),\n",
    "    ('ordinal',ordinal_pipeline,['Education']),\n",
    "    \n",
    "    ('num',numerical_pipeline,new_num_col)\n",
    "])"
   ]
  },
  {
   "cell_type": "code",
   "execution_count": null,
   "metadata": {},
   "outputs": [],
   "source": [
    "from sklearn.pipeline import Pipeline\n",
    "from sklearn.linear_model import LogisticRegression\n",
    "from sklearn.ensemble import RandomForestClassifier\n",
    "from sklearn.svm import SVC\n",
    "\n",
    "pipeline1 = Pipeline([('preprocessor', trnf), ('model', LogisticRegression())])\n",
    "pipeline2 = Pipeline([('preprocessor', trnf), ('model', RandomForestClassifier())])\n",
    "pipeline3 = Pipeline([('preprocessor', trnf), ('model', SVC())])\n"
   ]
  },
  {
   "cell_type": "code",
   "execution_count": null,
   "metadata": {},
   "outputs": [],
   "source": [
    "X_train = new_df.drop(columns=['Loan_Status'], axis=1)  \n",
    "y_train = new_df[\"Loan_Status\"]\n",
    "\n",
    "X_test = test_df"
   ]
  },
  {
   "cell_type": "code",
   "execution_count": null,
   "metadata": {},
   "outputs": [],
   "source": [
    "pipeline1.fit(X_train, y_train)\n",
    "pipeline2.fit(X_train, y_train)\n",
    "pipeline3.fit(X_train, y_train)\n",
    "\n"
   ]
  },
  {
   "cell_type": "code",
   "execution_count": null,
   "metadata": {},
   "outputs": [],
   "source": [
    "\n",
    "from sklearn.model_selection import cross_val_score\n",
    "\n",
    "scores1 = cross_val_score(pipeline1, X_train, y_train, cv=5)  # Example with 5 folds\n",
    "scores2 = cross_val_score(pipeline2, X_train, y_train, cv=5)\n",
    "scores3 = cross_val_score(pipeline3, X_train, y_train, cv=5)\n",
    "\n",
    "print(\"Pipeline 1 scores:\", scores1.mean())\n",
    "print(\"Pipeline 2 scores:\", scores2.mean())\n",
    "print(\"Pipeline 3 scores:\", scores3.mean())\n"
   ]
  }
 ],
 "metadata": {
  "language_info": {
   "name": "python"
  }
 },
 "nbformat": 4,
 "nbformat_minor": 2
}
